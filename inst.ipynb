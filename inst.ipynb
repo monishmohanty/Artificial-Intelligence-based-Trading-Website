{
 "cells": [
  {
   "cell_type": "code",
   "execution_count": 2,
   "metadata": {},
   "outputs": [
    {
     "name": "stdout",
     "output_type": "stream",
     "text": [
      "Collecting cx_Oracle\n",
      "  Downloading cx_Oracle-8.3.0-cp39-cp39-win_amd64.whl (213 kB)\n",
      "     -------------------------------------- 213.2/213.2 kB 2.2 MB/s eta 0:00:00\n",
      "Installing collected packages: cx_Oracle\n",
      "Successfully installed cx_Oracle-8.3.0\n"
     ]
    }
   ],
   "source": [
    "!pip install cx_Oracle --upgrade\n"
   ]
  },
  {
   "cell_type": "code",
   "execution_count": 3,
   "metadata": {},
   "outputs": [
    {
     "name": "stdout",
     "output_type": "stream",
     "text": [
      "Collecting fxcmpy\n",
      "  Downloading fxcmpy-1.3.3-py3-none-any.whl (28 kB)\n",
      "Requirement already satisfied: websocket-client in c:\\users\\rhea2\\anaconda3\\lib\\site-packages (from fxcmpy) (0.58.0)\n",
      "Requirement already satisfied: pandas in c:\\users\\rhea2\\anaconda3\\lib\\site-packages (from fxcmpy) (1.4.4)\n",
      "Collecting python-socketio==5.0.4\n",
      "  Downloading python_socketio-5.0.4-py2.py3-none-any.whl (52 kB)\n",
      "     ---------------------------------------- 52.7/52.7 kB 2.8 MB/s eta 0:00:00\n",
      "Collecting configparser\n",
      "  Downloading configparser-5.3.0-py3-none-any.whl (19 kB)\n",
      "Requirement already satisfied: requests[socks] in c:\\users\\rhea2\\anaconda3\\lib\\site-packages (from fxcmpy) (2.28.1)\n",
      "Collecting python-engineio==4.3.1\n",
      "  Downloading python_engineio-4.3.1-py3-none-any.whl (52 kB)\n",
      "     ---------------------------------------- 52.7/52.7 kB 2.7 MB/s eta 0:00:00\n",
      "Collecting bidict>=0.21.0\n",
      "  Downloading bidict-0.22.1-py3-none-any.whl (35 kB)\n",
      "Requirement already satisfied: numpy>=1.18.5 in c:\\users\\rhea2\\anaconda3\\lib\\site-packages (from pandas->fxcmpy) (1.21.5)\n",
      "Requirement already satisfied: pytz>=2020.1 in c:\\users\\rhea2\\anaconda3\\lib\\site-packages (from pandas->fxcmpy) (2022.1)\n",
      "Requirement already satisfied: python-dateutil>=2.8.1 in c:\\users\\rhea2\\anaconda3\\lib\\site-packages (from pandas->fxcmpy) (2.8.2)\n",
      "Requirement already satisfied: idna<4,>=2.5 in c:\\users\\rhea2\\anaconda3\\lib\\site-packages (from requests[socks]->fxcmpy) (3.3)\n",
      "Requirement already satisfied: urllib3<1.27,>=1.21.1 in c:\\users\\rhea2\\anaconda3\\lib\\site-packages (from requests[socks]->fxcmpy) (1.26.11)\n",
      "Requirement already satisfied: certifi>=2017.4.17 in c:\\users\\rhea2\\anaconda3\\lib\\site-packages (from requests[socks]->fxcmpy) (2022.9.14)\n",
      "Requirement already satisfied: charset-normalizer<3,>=2 in c:\\users\\rhea2\\anaconda3\\lib\\site-packages (from requests[socks]->fxcmpy) (2.0.4)\n",
      "Requirement already satisfied: PySocks!=1.5.7,>=1.5.6 in c:\\users\\rhea2\\anaconda3\\lib\\site-packages (from requests[socks]->fxcmpy) (1.7.1)\n",
      "Requirement already satisfied: six in c:\\users\\rhea2\\anaconda3\\lib\\site-packages (from websocket-client->fxcmpy) (1.16.0)\n",
      "Installing collected packages: python-engineio, configparser, bidict, python-socketio, fxcmpy\n",
      "Successfully installed bidict-0.22.1 configparser-5.3.0 fxcmpy-1.3.3 python-engineio-4.3.1 python-socketio-5.0.4\n"
     ]
    }
   ],
   "source": [
    "!pip install fxcmpy"
   ]
  },
  {
   "cell_type": "code",
   "execution_count": 1,
   "metadata": {},
   "outputs": [
    {
     "name": "stdout",
     "output_type": "stream",
     "text": [
      "Requirement already satisfied: flask in c:\\users\\rhea2\\anaconda3\\lib\\site-packages (1.1.2)\n",
      "Collecting flask\n",
      "  Downloading Flask-2.2.3-py3-none-any.whl (101 kB)\n",
      "     -------------------------------------- 101.8/101.8 kB 3.0 MB/s eta 0:00:00\n",
      "Collecting Jinja2>=3.0\n",
      "  Downloading Jinja2-3.1.2-py3-none-any.whl (133 kB)\n",
      "     -------------------------------------- 133.1/133.1 kB 2.0 MB/s eta 0:00:00\n",
      "Collecting Werkzeug>=2.2.2\n",
      "  Downloading Werkzeug-2.2.3-py3-none-any.whl (233 kB)\n",
      "     -------------------------------------- 233.6/233.6 kB 2.9 MB/s eta 0:00:00\n",
      "Requirement already satisfied: click>=8.0 in c:\\users\\rhea2\\anaconda3\\lib\\site-packages (from flask) (8.0.4)\n",
      "Requirement already satisfied: itsdangerous>=2.0 in c:\\users\\rhea2\\anaconda3\\lib\\site-packages (from flask) (2.0.1)\n",
      "Requirement already satisfied: importlib-metadata>=3.6.0 in c:\\users\\rhea2\\anaconda3\\lib\\site-packages (from flask) (4.11.3)\n",
      "Requirement already satisfied: colorama in c:\\users\\rhea2\\anaconda3\\lib\\site-packages (from click>=8.0->flask) (0.4.5)\n",
      "Requirement already satisfied: zipp>=0.5 in c:\\users\\rhea2\\anaconda3\\lib\\site-packages (from importlib-metadata>=3.6.0->flask) (3.8.0)\n",
      "Requirement already satisfied: MarkupSafe>=2.0 in c:\\users\\rhea2\\anaconda3\\lib\\site-packages (from Jinja2>=3.0->flask) (2.0.1)\n",
      "Collecting MarkupSafe>=2.0\n",
      "  Downloading MarkupSafe-2.1.2-cp39-cp39-win_amd64.whl (16 kB)\n",
      "Installing collected packages: MarkupSafe, Werkzeug, Jinja2, flask\n",
      "  Attempting uninstall: MarkupSafe\n",
      "    Found existing installation: MarkupSafe 2.0.1\n",
      "    Uninstalling MarkupSafe-2.0.1:\n",
      "      Successfully uninstalled MarkupSafe-2.0.1\n",
      "  Attempting uninstall: Werkzeug\n",
      "    Found existing installation: Werkzeug 2.0.3\n",
      "    Uninstalling Werkzeug-2.0.3:\n",
      "      Successfully uninstalled Werkzeug-2.0.3\n",
      "  Attempting uninstall: Jinja2\n",
      "    Found existing installation: Jinja2 2.11.3\n",
      "    Uninstalling Jinja2-2.11.3:\n",
      "      Successfully uninstalled Jinja2-2.11.3\n",
      "  Attempting uninstall: flask\n",
      "    Found existing installation: Flask 1.1.2\n",
      "    Uninstalling Flask-1.1.2:\n",
      "      Successfully uninstalled Flask-1.1.2\n",
      "Successfully installed Jinja2-3.1.2 MarkupSafe-2.1.2 Werkzeug-2.2.3 flask-2.2.3\n"
     ]
    }
   ],
   "source": [
    "!pip install flask --upgrade"
   ]
  }
 ],
 "metadata": {
  "kernelspec": {
   "display_name": "base",
   "language": "python",
   "name": "python3"
  },
  "language_info": {
   "codemirror_mode": {
    "name": "ipython",
    "version": 3
   },
   "file_extension": ".py",
   "mimetype": "text/x-python",
   "name": "python",
   "nbconvert_exporter": "python",
   "pygments_lexer": "ipython3",
   "version": "3.9.13"
  },
  "orig_nbformat": 4,
  "vscode": {
   "interpreter": {
    "hash": "071f89f4ac7ad4beae74158eb789cfb5cdd23b1ad3d5aedf1efcb1d8275b00e5"
   }
  }
 },
 "nbformat": 4,
 "nbformat_minor": 2
}
